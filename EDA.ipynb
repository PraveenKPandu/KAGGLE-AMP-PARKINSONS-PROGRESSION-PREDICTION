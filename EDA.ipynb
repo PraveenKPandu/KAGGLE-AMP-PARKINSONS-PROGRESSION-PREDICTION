{
 "cells": [
  {
   "attachments": {},
   "cell_type": "markdown",
   "metadata": {},
   "source": [
    "Goal of the Competition\n",
    "\n",
    "The goal of this competition is to predict MDS-UPDR scores, which measure progression in patients with Parkinson's disease. The Movement Disorder Society-Sponsored Revision of the Unified Parkinson's Disease Rating Scale (MDS-UPDRS) is a comprehensive assessment of both motor and non-motor symptoms associated with Parkinson's. You will develop a model trained on data of protein and peptide levels over time in subjects with Parkinson’s disease versus normal age-matched control subjects.\n",
    "\n",
    "Your work could help provide important breakthrough information about which molecules change as Parkinson’s disease progresses."
   ]
  },
  {
   "cell_type": "code",
   "execution_count": null,
   "metadata": {},
   "outputs": [],
   "source": []
  }
 ],
 "metadata": {
  "kernelspec": {
   "display_name": "Python 3",
   "language": "python",
   "name": "python3"
  },
  "language_info": {
   "name": "python",
   "version": "3.7.3 (default, Mar 21 2021, 03:26:34) \n[Clang 11.0.0 (clang-1100.0.33.17)]"
  },
  "orig_nbformat": 4,
  "vscode": {
   "interpreter": {
    "hash": "a6a11eb81dcfb2496355c492f4cf799310f59d3700374bced0cffd1f8050dd8b"
   }
  }
 },
 "nbformat": 4,
 "nbformat_minor": 2
}
